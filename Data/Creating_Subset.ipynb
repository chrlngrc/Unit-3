{
 "cells": [
  {
   "cell_type": "markdown",
   "id": "ebf91681-6ebe-4898-9576-40bac6eed3b8",
   "metadata": {},
   "source": [
    "# County Health Data Analysis\n",
    "\n",
    "\n",
    "\n",
    "#### Overview\n",
    "This notebook will show you how to use the pandas package for data analysis. Using this, you will be able to create subset of the data. \n",
    "\n",
    "#### Setting Up\n",
    "\n",
    "1. Start by downloading the file onto your computer and saving it under the same folder as the notebook.\n",
    "2. Import the file into the notebook using `import`. \n",
    "3. To make the file easier to work with, use `as pd`. By doing this, you will not need to type out the file name every time. For example, you would only need to type `pd.<function>` rather than `pandas.<function>`"
   ]
  },
  {
   "cell_type": "code",
   "execution_count": 34,
   "id": "7dc84823-7aa6-47f0-807a-f5f4e4b1e010",
   "metadata": {},
   "outputs": [],
   "source": [
    "import pandas as pd"
   ]
  },
  {
   "cell_type": "markdown",
   "id": "cb901f1f-4cad-469b-be0d-f153787065c6",
   "metadata": {},
   "source": [
    "Define the dataframe as `df`. Add the function `.read_csv()` so that the object `df` can read the file. By defining `df` you do not need to write out `pd.read_cvs()` every time."
   ]
  },
  {
   "cell_type": "code",
   "execution_count": 53,
   "id": "118f27b3-3779-4536-b285-78e8815021f1",
   "metadata": {},
   "outputs": [],
   "source": [
    "df=pd.read_csv(\"CountyHealthData_2014-2015.csv\")"
   ]
  },
  {
   "cell_type": "markdown",
   "id": "abb6de0f-511d-4b50-a365-74e54a21cfda",
   "metadata": {},
   "source": [
    "\n",
    "\n",
    "\n",
    "\n",
    "#### Filtering Data\n",
    "\n",
    "Focus in on certain variables. In this subset, we will be looking at the `\"Health care costs\"` and `\"Child mortality\"` in U.S. states. To do this use `[<variable>]` use **commas** to separate variables."
   ]
  },
  {
   "cell_type": "code",
   "execution_count": 55,
   "id": "35b57654-0d34-4b3d-9d85-db29917503bb",
   "metadata": {
    "tags": []
   },
   "outputs": [
    {
     "data": {
      "text/html": [
       "<div>\n",
       "<style scoped>\n",
       "    .dataframe tbody tr th:only-of-type {\n",
       "        vertical-align: middle;\n",
       "    }\n",
       "\n",
       "    .dataframe tbody tr th {\n",
       "        vertical-align: top;\n",
       "    }\n",
       "\n",
       "    .dataframe thead th {\n",
       "        text-align: right;\n",
       "    }\n",
       "</style>\n",
       "<table border=\"1\" class=\"dataframe\">\n",
       "  <thead>\n",
       "    <tr style=\"text-align: right;\">\n",
       "      <th></th>\n",
       "      <th>State</th>\n",
       "      <th>Health care costs</th>\n",
       "      <th>Child mortality</th>\n",
       "    </tr>\n",
       "  </thead>\n",
       "  <tbody>\n",
       "    <tr>\n",
       "      <th>0</th>\n",
       "      <td>AK</td>\n",
       "      <td>3791.0</td>\n",
       "      <td>NaN</td>\n",
       "    </tr>\n",
       "    <tr>\n",
       "      <th>1</th>\n",
       "      <td>AK</td>\n",
       "      <td>4837.0</td>\n",
       "      <td>NaN</td>\n",
       "    </tr>\n",
       "    <tr>\n",
       "      <th>2</th>\n",
       "      <td>AK</td>\n",
       "      <td>6588.0</td>\n",
       "      <td>51.7</td>\n",
       "    </tr>\n",
       "    <tr>\n",
       "      <th>3</th>\n",
       "      <td>AK</td>\n",
       "      <td>6582.0</td>\n",
       "      <td>46.4</td>\n",
       "    </tr>\n",
       "    <tr>\n",
       "      <th>4</th>\n",
       "      <td>AK</td>\n",
       "      <td>5860.0</td>\n",
       "      <td>180.3</td>\n",
       "    </tr>\n",
       "    <tr>\n",
       "      <th>...</th>\n",
       "      <td>...</td>\n",
       "      <td>...</td>\n",
       "      <td>...</td>\n",
       "    </tr>\n",
       "    <tr>\n",
       "      <th>6104</th>\n",
       "      <td>WY</td>\n",
       "      <td>7600.0</td>\n",
       "      <td>47.7</td>\n",
       "    </tr>\n",
       "    <tr>\n",
       "      <th>6105</th>\n",
       "      <td>WY</td>\n",
       "      <td>8202.0</td>\n",
       "      <td>NaN</td>\n",
       "    </tr>\n",
       "    <tr>\n",
       "      <th>6106</th>\n",
       "      <td>WY</td>\n",
       "      <td>7940.0</td>\n",
       "      <td>NaN</td>\n",
       "    </tr>\n",
       "    <tr>\n",
       "      <th>6107</th>\n",
       "      <td>WY</td>\n",
       "      <td>6906.0</td>\n",
       "      <td>NaN</td>\n",
       "    </tr>\n",
       "    <tr>\n",
       "      <th>6108</th>\n",
       "      <td>WY</td>\n",
       "      <td>7238.0</td>\n",
       "      <td>NaN</td>\n",
       "    </tr>\n",
       "  </tbody>\n",
       "</table>\n",
       "<p>6109 rows × 3 columns</p>\n",
       "</div>"
      ],
      "text/plain": [
       "     State  Health care costs  Child mortality\n",
       "0       AK             3791.0              NaN\n",
       "1       AK             4837.0              NaN\n",
       "2       AK             6588.0             51.7\n",
       "3       AK             6582.0             46.4\n",
       "4       AK             5860.0            180.3\n",
       "...    ...                ...              ...\n",
       "6104    WY             7600.0             47.7\n",
       "6105    WY             8202.0              NaN\n",
       "6106    WY             7940.0              NaN\n",
       "6107    WY             6906.0              NaN\n",
       "6108    WY             7238.0              NaN\n",
       "\n",
       "[6109 rows x 3 columns]"
      ]
     },
     "execution_count": 55,
     "metadata": {},
     "output_type": "execute_result"
    }
   ],
   "source": [
    "df[[\"State\",\"Health care costs\", \"Child mortality\"]]"
   ]
  },
  {
   "cell_type": "markdown",
   "id": "5ddf428c-376d-42cd-995a-3635e78592e7",
   "metadata": {},
   "source": [
    "This will become your new subset."
   ]
  },
  {
   "cell_type": "markdown",
   "id": "3960faca-e5b3-4eb8-a137-f557563131e5",
   "metadata": {},
   "source": [
    "#### Creating New Subset"
   ]
  },
  {
   "cell_type": "markdown",
   "id": "2eab111b-371f-4c44-89de-09c3695cb8a9",
   "metadata": {},
   "source": [
    "Now, rename the subset as `State_Child_Mortality`. Unlike `pd` or `df`, here we need to know what the data is used for, so name it something that explains the data. "
   ]
  },
  {
   "cell_type": "code",
   "execution_count": 61,
   "id": "393bb9cf-60e7-4c41-9d3b-9ad8448eff25",
   "metadata": {},
   "outputs": [],
   "source": [
    "State_Child_Mortality = df[[\"State\",\"County\",\"Health care costs\", \"Child mortality\"]]"
   ]
  },
  {
   "cell_type": "markdown",
   "id": "3abb4624-9fcf-4f61-bfb6-5f6cff6c878a",
   "metadata": {},
   "source": [
    "Now that we have a new dataset, we need to save it as a `.cvs`. Use `.to_cvs()`. Add the name of the new subset inside `()`. \n",
    "\n",
    "Use `index=False` to eliminate the row of indices that pandas will automatically create when we read the original file. "
   ]
  },
  {
   "cell_type": "code",
   "execution_count": 62,
   "id": "e596254b-23f2-49a4-9f82-568894a86221",
   "metadata": {},
   "outputs": [],
   "source": [
    "State_Child_Mortality.to_csv(\"State_Child_Mortality.csv\", index=False)"
   ]
  },
  {
   "cell_type": "markdown",
   "id": "2da53b51-34c8-44bc-a77d-87ea8cbb95f2",
   "metadata": {
    "tags": []
   },
   "source": [
    "**Now you will have the new cvs file your our working directory.**"
   ]
  }
 ],
 "metadata": {
  "kernelspec": {
   "display_name": "Python 3 (ipykernel)",
   "language": "python",
   "name": "python3"
  },
  "language_info": {
   "codemirror_mode": {
    "name": "ipython",
    "version": 3
   },
   "file_extension": ".py",
   "mimetype": "text/x-python",
   "name": "python",
   "nbconvert_exporter": "python",
   "pygments_lexer": "ipython3",
   "version": "3.9.13"
  }
 },
 "nbformat": 4,
 "nbformat_minor": 5
}
